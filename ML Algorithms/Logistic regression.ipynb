{
 "cells": [
  {
   "cell_type": "markdown",
   "metadata": {},
   "source": [
    "### Import Libraries"
   ]
  },
  {
   "cell_type": "code",
   "execution_count": 1,
   "metadata": {},
   "outputs": [],
   "source": [
    "import numpy as np\n",
    "import matplotlib.pyplot as plt\n",
    "from sklearn.model_selection import train_test_split\n",
    "from sklearn.datasets import make_classification\n",
    "from sklearn.preprocessing import StandardScaler\n",
    "from sklearn.metrics import accuracy_score\n",
    "from sklearn.linear_model import LogisticRegression"
   ]
  },
  {
   "cell_type": "markdown",
   "metadata": {},
   "source": [
    "### Generate synthetic binary classification data with different configurations"
   ]
  },
  {
   "cell_type": "code",
   "execution_count": 2,
   "metadata": {},
   "outputs": [],
   "source": [
    "def generate_dataset(n_samples=1000, n_features=2, n_classes=2, n_informative=2, random_state=42):\n",
    "    return make_classification(n_samples=n_samples, n_features=n_features, n_classes=n_classes, \n",
    "                               n_informative=n_informative, n_redundant=0, random_state=random_state)"
   ]
  },
  {
   "cell_type": "markdown",
   "metadata": {},
   "source": [
    "### Experiment with different datasets"
   ]
  },
  {
   "cell_type": "code",
   "execution_count": 3,
   "metadata": {},
   "outputs": [
    {
     "name": "stdout",
     "output_type": "stream",
     "text": [
      "Dataset 1: Features=2, Classes=2\n",
      "Dataset 2: Features=5, Classes=2\n",
      "Dataset 3: Features=10, Classes=3\n"
     ]
    }
   ],
   "source": [
    "datasets = [\n",
    "    generate_dataset(n_samples=1000, n_features=2, n_classes=2, n_informative=2),\n",
    "    generate_dataset(n_samples=1000, n_features=5, n_classes=2, n_informative=3),\n",
    "    generate_dataset(n_samples=1000, n_features=10, n_classes=3, n_informative=5)\n",
    "]\n",
    "\n",
    "for i, (X, y) in enumerate(datasets):\n",
    "    print(f\"Dataset {i+1}: Features={X.shape[1]}, Classes={len(set(y))}\")"
   ]
  },
  {
   "cell_type": "markdown",
   "metadata": {},
   "source": [
    "### Split data into training and testing sets"
   ]
  },
  {
   "cell_type": "code",
   "execution_count": 4,
   "metadata": {},
   "outputs": [],
   "source": [
    "X_train, X_test, y_train, y_test = train_test_split(X, y, test_size=0.2, random_state=42)"
   ]
  },
  {
   "cell_type": "markdown",
   "metadata": {},
   "source": [
    "### Standardize features"
   ]
  },
  {
   "cell_type": "code",
   "execution_count": 6,
   "metadata": {},
   "outputs": [],
   "source": [
    "scaler = StandardScaler()\n",
    "X_train = scaler.fit_transform(X_train)\n",
    "X_test = scaler.transform(X_test)"
   ]
  },
  {
   "cell_type": "markdown",
   "metadata": {},
   "source": [
    "### Custom Logistic Regression Implementation"
   ]
  },
  {
   "cell_type": "code",
   "execution_count": null,
   "metadata": {},
   "outputs": [],
   "source": [
    "class LogisticRegressionCustom:\n",
    "     def __init__(self, learning_rate=0.01, epochs=1000):\n",
    "            self.learning_rate = learning_rate\n",
    "            self.epochs = epochs\n",
    "            self.weights = None\n",
    "            self.bias = None\n",
    "\n",
    "        def sigmoid(self, z):\n",
    "            return 1 / (1 + np.exp(-z))\n",
    "\n",
    "        def fit(self, X, y):\n",
    "            n_samples, n_features = X.shape\n",
    "            self.weights = np.zeros(n_features)\n",
    "            self.bias = 0\n",
    "            \n",
    "            for _ in range(self.epochs):\n",
    "                linear_model = np.dot(X, self.weights) + self.bias\n",
    "                y_predicted = self.sigmoid(linear_model)\n",
    "                \n",
    "                dw = (1 / n_samples) * np.dot(X.T, (y_predicted - y))\n",
    "                db = (1 / n_samples) * np.sum(y_predicted - y)\n",
    "                \n",
    "                self.weights -= self.learning_rate * dw\n",
    "                self.bias -= self.learning_rate * db\n",
    "\n",
    "        def predict(self, X):\n",
    "            linear_model = np.dot(X, self.weights) + self.bias\n",
    "            y_predicted = self.sigmoid(linear_model)\n",
    "            return [1 if i > 0.5 else 0 for i in y_predicted]"
   ]
  },
  {
   "cell_type": "markdown",
   "metadata": {},
   "source": [
    "### Train and evaluate custom logistic regression"
   ]
  },
  {
   "cell_type": "code",
   "execution_count": 8,
   "metadata": {},
   "outputs": [],
   "source": [
    "custom_model = LogisticRegressionCustom(learning_rate=0.01, epochs=1000)\n",
    "custom_model.fit(X_train, y_train)\n",
    "y_pred_custom = custom_model.predict(X_test)\n",
    "custom_accuracy = accuracy_score(y_test, y_pred_custom)"
   ]
  },
  {
   "cell_type": "markdown",
   "metadata": {},
   "source": [
    "### Train and evaluate Scikit-Learn's logistic regression"
   ]
  },
  {
   "cell_type": "code",
   "execution_count": 10,
   "metadata": {},
   "outputs": [
    {
     "name": "stdout",
     "output_type": "stream",
     "text": [
      "Custom Logistic Regression Accuracy: 0.4200\n",
      "Scikit-Learn Logistic Regression Accuracy: 0.7150\n",
      "--------------------------------------------------\n"
     ]
    }
   ],
   "source": [
    "sklearn_model = LogisticRegression()\n",
    "sklearn_model.fit(X_train, y_train)\n",
    "y_pred_sklearn = sklearn_model.predict(X_test)\n",
    "sklearn_accuracy = accuracy_score(y_test, y_pred_sklearn)\n",
    "\n",
    "print(f\"Custom Logistic Regression Accuracy: {custom_accuracy:.4f}\")\n",
    "print(f\"Scikit-Learn Logistic Regression Accuracy: {sklearn_accuracy:.4f}\")\n",
    "print(\"-\" * 50)"
   ]
  },
  {
   "cell_type": "code",
   "execution_count": null,
   "metadata": {},
   "outputs": [],
   "source": []
  }
 ],
 "metadata": {
  "kernelspec": {
   "display_name": "Python 3",
   "language": "python",
   "name": "python3"
  },
  "language_info": {
   "codemirror_mode": {
    "name": "ipython",
    "version": 3
   },
   "file_extension": ".py",
   "mimetype": "text/x-python",
   "name": "python",
   "nbconvert_exporter": "python",
   "pygments_lexer": "ipython3",
   "version": "3.10.16"
  }
 },
 "nbformat": 4,
 "nbformat_minor": 2
}
