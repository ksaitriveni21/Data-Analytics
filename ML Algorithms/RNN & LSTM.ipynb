{
 "cells": [
  {
   "cell_type": "markdown",
   "metadata": {},
   "source": [
    "# RNN & LSTM"
   ]
  },
  {
   "cell_type": "markdown",
   "metadata": {},
   "source": [
    "RNNs have a simple recurrent structure with unidirectional information flow. \n",
    "\n",
    "LSTMs have a gating mechanism that controls information flow and a cell state for long-term memory."
   ]
  },
  {
   "cell_type": "markdown",
   "metadata": {},
   "source": [
    "## Import dependencies"
   ]
  },
  {
   "cell_type": "code",
   "execution_count": 1,
   "metadata": {},
   "outputs": [
    {
     "name": "stdout",
     "output_type": "stream",
     "text": [
      "Python version: 3.10.5\n",
      "Tensorflow version: 2.13.0\n",
      "Keras version: 2.13.1\n"
     ]
    }
   ],
   "source": [
    "import tensorflow as tf\n",
    "import matplotlib.pyplot as plt\n",
    "import numpy as np\n",
    "import platform\n",
    "import random\n",
    "import math\n",
    "import datetime\n",
    "import keras\n",
    "\n",
    "print('Python version:', platform.python_version())\n",
    "print('Tensorflow version:', tf.__version__)\n",
    "print('Keras version:', keras.__version__)"
   ]
  },
  {
   "cell_type": "code",
   "execution_count": 2,
   "metadata": {},
   "outputs": [],
   "source": [
    "import warnings\n",
    "warnings.filterwarnings(\"ignore\")"
   ]
  },
  {
   "cell_type": "markdown",
   "metadata": {},
   "source": [
    "## Generate a dataset"
   ]
  },
  {
   "cell_type": "code",
   "execution_count": 3,
   "metadata": {},
   "outputs": [],
   "source": [
    "dataset_size = 10000\n",
    "sequence_length = 4\n",
    "max_num = 200"
   ]
  },
  {
   "cell_type": "code",
   "execution_count": 4,
   "metadata": {},
   "outputs": [],
   "source": [
    "def generate_sums(dataset_size, sequence_length, max_num):\n",
    "    x, y = [], []\n",
    "\n",
    "    for i in range(dataset_size):\n",
    "        sequence = [random.randint(1, max_num) for _ in range(sequence_length)]\n",
    "        x.append(sequence)\n",
    "        y.append(sum(sequence))\n",
    "    \n",
    "    return x, y"
   ]
  },
  {
   "cell_type": "code",
   "execution_count": 5,
   "metadata": {},
   "outputs": [
    {
     "name": "stdout",
     "output_type": "stream",
     "text": [
      "x_train:\n",
      " [[186, 24, 155, 39], [153, 65, 129, 58], [152, 43, 42, 14], [51, 15, 65, 98]]\n",
      "\n",
      "y_train:\n",
      " [404, 405, 251, 229]\n"
     ]
    }
   ],
   "source": [
    "x_train, y_train = generate_sums(\n",
    "    dataset_size=dataset_size,\n",
    "    sequence_length=sequence_length,\n",
    "    max_num=max_num\n",
    ")\n",
    "\n",
    "print('x_train:\\n', x_train[:4])\n",
    "print()\n",
    "print('y_train:\\n', y_train[:4])"
   ]
  },
  {
   "cell_type": "code",
   "execution_count": 6,
   "metadata": {},
   "outputs": [],
   "source": [
    "import math\n",
    "\n",
    "def dataset_to_strings(x, y, max_num):\n",
    "    sequence_length = len(x[0])\n",
    "    num_chars_per_digit = len(str(max_num))\n",
    "    max_x_length = sequence_length * num_chars_per_digit + (sequence_length - 1)\n",
    "    max_y_length = len(str(sequence_length * max_num))\n",
    "    \n",
    "    x_str = [\" \".join(f\"{num:>{num_chars_per_digit}}\" for num in example).replace(\" \", \"+\")\n",
    "             .ljust(max_x_length) for example in x]\n",
    "    \n",
    "    y_str = [str(label).ljust(max_y_length) for label in y]\n",
    "    \n",
    "    return x_str, y_str"
   ]
  },
  {
   "cell_type": "code",
   "execution_count": 7,
   "metadata": {},
   "outputs": [
    {
     "name": "stdout",
     "output_type": "stream",
     "text": [
      "x_train_str:\n",
      " ['186++24+155++39' '153++65+129++58' '152++43++42++14']\n",
      "\n",
      "y_train_str:\n",
      " ['404' '405' '251']\n"
     ]
    }
   ],
   "source": [
    "x_train_str, y_train_str = dataset_to_strings(x_train, y_train, max_num)\n",
    "\n",
    "print('x_train_str:\\n', np.array(x_train_str[:3]))\n",
    "print()\n",
    "print('y_train_str:\\n', np.array(y_train_str[:3]))"
   ]
  },
  {
   "cell_type": "code",
   "execution_count": 8,
   "metadata": {},
   "outputs": [],
   "source": [
    "vocabulary = ['0', '1', '2', '3', '4', '5', '6', '7', '8', '9', '+', ' ']"
   ]
  },
  {
   "cell_type": "code",
   "execution_count": 9,
   "metadata": {},
   "outputs": [
    {
     "name": "stdout",
     "output_type": "stream",
     "text": [
      "{'0': 0, '1': 1, '2': 2, '3': 3, '4': 4, '5': 5, '6': 6, '7': 7, '8': 8, '9': 9, '+': 10, ' ': 11}\n"
     ]
    }
   ],
   "source": [
    "char_to_index = {char: index for index, char in enumerate(vocabulary)}\n",
    "\n",
    "print(char_to_index)"
   ]
  },
  {
   "cell_type": "code",
   "execution_count": 10,
   "metadata": {},
   "outputs": [],
   "source": [
    "def dataset_to_indices(x, y, vocabulary):\n",
    "    x_encoded, y_encoded = [], []\n",
    "    \n",
    "    char_to_index = {char: index for index, char in enumerate(vocabulary)}\n",
    "    \n",
    "    for example in x:\n",
    "        example_encoded = [char_to_index[char] for char in example]\n",
    "        x_encoded.append(example_encoded)\n",
    "        \n",
    "    for label in y:\n",
    "        label_encoded = [char_to_index[char] for char in label]\n",
    "        y_encoded.append(label_encoded)\n",
    "        \n",
    "    return x_encoded, y_encoded"
   ]
  },
  {
   "cell_type": "code",
   "execution_count": 11,
   "metadata": {},
   "outputs": [
    {
     "name": "stdout",
     "output_type": "stream",
     "text": [
      "x_train_encoded:\n",
      " [[ 1  8  6 10 10  2  4 10  1  5  5 10 10  3  9]\n",
      " [ 1  5  3 10 10  6  5 10  1  2  9 10 10  5  8]\n",
      " [ 1  5  2 10 10  4  3 10 10  4  2 10 10  1  4]]\n",
      "\n",
      "y_train_encoded:\n",
      " [[4 0 4]\n",
      " [4 0 5]\n",
      " [2 5 1]]\n"
     ]
    }
   ],
   "source": [
    "x_train_encoded, y_train_encoded = dataset_to_indices(\n",
    "    x_train_str,\n",
    "    y_train_str,\n",
    "    vocabulary\n",
    ")\n",
    "\n",
    "print('x_train_encoded:\\n', np.array(x_train_encoded[:3]))\n",
    "print()\n",
    "print('y_train_encoded:\\n', np.array(y_train_encoded[:3]))"
   ]
  },
  {
   "cell_type": "code",
   "execution_count": 12,
   "metadata": {},
   "outputs": [],
   "source": [
    "def dataset_to_one_hot(x, y, vocabulary):\n",
    "    x_encoded, y_encoded = [], []\n",
    "    \n",
    "    for example in x:\n",
    "        pattern = []\n",
    "        for index in example:\n",
    "            vector = [0 for _ in range(len(vocabulary))]\n",
    "            vector[index] = 1\n",
    "            pattern.append(vector)\n",
    "        x_encoded.append(pattern)\n",
    "            \n",
    "    for label in y:\n",
    "        pattern = []\n",
    "        for index in label:\n",
    "            vector = [0 for _ in range(len(vocabulary))]\n",
    "            vector[index] = 1\n",
    "            pattern.append(vector)\n",
    "        y_encoded.append(pattern)\n",
    "        \n",
    "    return x_encoded, y_encoded"
   ]
  },
  {
   "cell_type": "code",
   "execution_count": 13,
   "metadata": {},
   "outputs": [
    {
     "name": "stdout",
     "output_type": "stream",
     "text": [
      "x_train_one_hot:\n",
      " [[[0 1 0 0 0 0 0 0 0 0 0 0]\n",
      "  [0 0 0 0 0 0 0 0 1 0 0 0]\n",
      "  [0 0 0 0 0 0 1 0 0 0 0 0]\n",
      "  [0 0 0 0 0 0 0 0 0 0 1 0]\n",
      "  [0 0 0 0 0 0 0 0 0 0 1 0]\n",
      "  [0 0 1 0 0 0 0 0 0 0 0 0]\n",
      "  [0 0 0 0 1 0 0 0 0 0 0 0]\n",
      "  [0 0 0 0 0 0 0 0 0 0 1 0]\n",
      "  [0 1 0 0 0 0 0 0 0 0 0 0]\n",
      "  [0 0 0 0 0 1 0 0 0 0 0 0]\n",
      "  [0 0 0 0 0 1 0 0 0 0 0 0]\n",
      "  [0 0 0 0 0 0 0 0 0 0 1 0]\n",
      "  [0 0 0 0 0 0 0 0 0 0 1 0]\n",
      "  [0 0 0 1 0 0 0 0 0 0 0 0]\n",
      "  [0 0 0 0 0 0 0 0 0 1 0 0]]]\n",
      "\n",
      "y_train_one_hot:\n",
      " [[[0 0 0 0 1 0 0 0 0 0 0 0]\n",
      "  [1 0 0 0 0 0 0 0 0 0 0 0]\n",
      "  [0 0 0 0 1 0 0 0 0 0 0 0]]]\n"
     ]
    }
   ],
   "source": [
    "x_train_one_hot, y_train_one_hot = dataset_to_one_hot(\n",
    "    x_train_encoded,\n",
    "    y_train_encoded,\n",
    "    vocabulary\n",
    ")\n",
    "\n",
    "print('x_train_one_hot:\\n', np.array(x_train_one_hot[:1]))\n",
    "print()\n",
    "print('y_train_one_hot:\\n', np.array(y_train_one_hot[:1]))"
   ]
  },
  {
   "cell_type": "code",
   "execution_count": 14,
   "metadata": {},
   "outputs": [],
   "source": [
    "# Generates a dataset.\n",
    "def generate_dataset(dataset_size, sequence_length, max_num, vocabulary):\n",
    "    x, y = generate_sums(dataset_size, sequence_length, max_num)\n",
    "    x, y = dataset_to_strings(x, y, max_num)\n",
    "    x, y = dataset_to_indices(x, y, vocabulary)\n",
    "    x, y = dataset_to_one_hot(x, y, vocabulary)\n",
    "    return np.array(x), np.array(y)"
   ]
  },
  {
   "cell_type": "code",
   "execution_count": 15,
   "metadata": {},
   "outputs": [
    {
     "name": "stdout",
     "output_type": "stream",
     "text": [
      "x:\n",
      " [[[0 1 0 0 0 0 0 0 0 0 0 0]\n",
      "  [0 0 0 0 0 1 0 0 0 0 0 0]\n",
      "  [0 0 0 0 0 1 0 0 0 0 0 0]\n",
      "  [0 0 0 0 0 0 0 0 0 0 1 0]\n",
      "  [0 0 0 0 0 0 0 0 0 0 1 0]\n",
      "  [0 0 0 0 0 0 0 0 0 0 1 0]\n",
      "  [0 0 0 0 0 0 0 1 0 0 0 0]\n",
      "  [0 0 0 0 0 0 0 0 0 0 1 0]\n",
      "  [0 1 0 0 0 0 0 0 0 0 0 0]\n",
      "  [0 0 0 0 0 0 0 0 1 0 0 0]\n",
      "  [0 0 0 0 0 1 0 0 0 0 0 0]\n",
      "  [0 0 0 0 0 0 0 0 0 0 1 0]\n",
      "  [0 0 0 0 0 0 0 0 0 0 1 0]\n",
      "  [0 0 0 0 0 0 0 0 0 0 1 0]\n",
      "  [0 0 1 0 0 0 0 0 0 0 0 0]]]\n",
      "\n",
      "y:\n",
      " [[[0 0 0 1 0 0 0 0 0 0 0 0]\n",
      "  [0 0 0 0 1 0 0 0 0 0 0 0]\n",
      "  [0 0 0 0 0 0 0 0 0 1 0 0]]]\n"
     ]
    }
   ],
   "source": [
    "x, y = generate_dataset(\n",
    "    dataset_size,\n",
    "    sequence_length,\n",
    "    max_num,\n",
    "    vocabulary\n",
    ")\n",
    "\n",
    "print('x:\\n', x[:1])\n",
    "print()\n",
    "print('y:\\n', y[:1])"
   ]
  },
  {
   "cell_type": "code",
   "execution_count": 16,
   "metadata": {},
   "outputs": [
    {
     "name": "stdout",
     "output_type": "stream",
     "text": [
      "x.shape:  (10000, 15, 12)\n",
      "y.shape:  (10000, 3, 12)\n"
     ]
    }
   ],
   "source": [
    "print('x.shape: ', x.shape) \n",
    "print('y.shape: ', y.shape) "
   ]
  },
  {
   "cell_type": "code",
   "execution_count": 17,
   "metadata": {},
   "outputs": [
    {
     "name": "stdout",
     "output_type": "stream",
     "text": [
      "input_sequence_length:  15\n",
      "output_sequence_length:  3\n",
      "supported_symbols_num:  12\n",
      "vocabulary_size:  12\n"
     ]
    }
   ],
   "source": [
    "input_sequence_length = x.shape[1]\n",
    "output_sequence_length = y.shape[1]\n",
    "supported_symbols_num = x.shape[2]\n",
    "vocabulary_size = len(vocabulary)\n",
    "\n",
    "print('input_sequence_length: ', input_sequence_length)\n",
    "print('output_sequence_length: ', output_sequence_length)\n",
    "print('supported_symbols_num: ', supported_symbols_num)\n",
    "print('vocabulary_size: ', vocabulary_size)"
   ]
  },
  {
   "cell_type": "code",
   "execution_count": 18,
   "metadata": {},
   "outputs": [],
   "source": [
    "def decode(sequence, vocabulary):\n",
    "    index_to_char = {index: char for index, char in enumerate(vocabulary)}\n",
    "    strings = []\n",
    "    for char_vector in sequence:\n",
    "        char = index_to_char[np.argmax(char_vector)]\n",
    "        strings.append(char)\n",
    "    return ''.join(strings)"
   ]
  },
  {
   "cell_type": "code",
   "execution_count": 19,
   "metadata": {},
   "outputs": [
    {
     "data": {
      "text/plain": [
       "'349'"
      ]
     },
     "execution_count": 19,
     "metadata": {},
     "output_type": "execute_result"
    }
   ],
   "source": [
    "decode(y[0], vocabulary)"
   ]
  },
  {
   "cell_type": "markdown",
   "metadata": {},
   "source": [
    "## Build a model"
   ]
  },
  {
   "cell_type": "code",
   "execution_count": 20,
   "metadata": {},
   "outputs": [],
   "source": [
    "epochs_num = 100\n",
    "batch_size = 64"
   ]
  },
  {
   "cell_type": "code",
   "execution_count": 21,
   "metadata": {},
   "outputs": [],
   "source": [
    "model = tf.keras.models.Sequential()\n",
    "\n",
    "model.add(tf.keras.layers.LSTM(\n",
    "    units=128,\n",
    "    input_shape=(input_sequence_length, vocabulary_size),\n",
    "    recurrent_initializer=tf.keras.initializers.GlorotNormal()\n",
    "))\n",
    "\n",
    "model.add(tf.keras.layers.RepeatVector(\n",
    "    n=output_sequence_length,\n",
    "))\n",
    "\n",
    "model.add(tf.keras.layers.LSTM(\n",
    "    units=128,\n",
    "    return_sequences=True,\n",
    "    recurrent_initializer=tf.keras.initializers.GlorotNormal()\n",
    "))\n",
    "\n",
    "model.add(tf.keras.layers.TimeDistributed(\n",
    "    layer=tf.keras.layers.Dense(\n",
    "        units=vocabulary_size,\n",
    "    )\n",
    "))\n",
    "\n",
    "model.add(tf.keras.layers.Activation(\n",
    "    activation='softmax'\n",
    "))"
   ]
  },
  {
   "cell_type": "code",
   "execution_count": 22,
   "metadata": {},
   "outputs": [
    {
     "name": "stdout",
     "output_type": "stream",
     "text": [
      "Model: \"sequential\"\n",
      "_________________________________________________________________\n",
      " Layer (type)                Output Shape              Param #   \n",
      "=================================================================\n",
      " lstm (LSTM)                 (None, 128)               72192     \n",
      "                                                                 \n",
      " repeat_vector (RepeatVecto  (None, 3, 128)            0         \n",
      " r)                                                              \n",
      "                                                                 \n",
      " lstm_1 (LSTM)               (None, 3, 128)            131584    \n",
      "                                                                 \n",
      " time_distributed (TimeDist  (None, 3, 12)             1548      \n",
      " ributed)                                                        \n",
      "                                                                 \n",
      " activation (Activation)     (None, 3, 12)             0         \n",
      "                                                                 \n",
      "=================================================================\n",
      "Total params: 205324 (802.05 KB)\n",
      "Trainable params: 205324 (802.05 KB)\n",
      "Non-trainable params: 0 (0.00 Byte)\n",
      "_________________________________________________________________\n"
     ]
    }
   ],
   "source": [
    "model.summary()"
   ]
  },
  {
   "cell_type": "markdown",
   "metadata": {},
   "source": [
    "## Train a model"
   ]
  },
  {
   "cell_type": "code",
   "execution_count": 23,
   "metadata": {},
   "outputs": [],
   "source": [
    "adam_optimizer = tf.keras.optimizers.Adam(learning_rate=0.001)\n",
    "model.compile(\n",
    "    optimizer=adam_optimizer,\n",
    "    loss=tf.keras.losses.categorical_crossentropy,\n",
    "    metrics=['accuracy'],\n",
    ")"
   ]
  },
  {
   "cell_type": "code",
   "execution_count": 24,
   "metadata": {},
   "outputs": [],
   "source": [
    "from tensorflow.keras.callbacks import TensorBoard\n",
    "import datetime"
   ]
  },
  {
   "cell_type": "code",
   "execution_count": 25,
   "metadata": {},
   "outputs": [],
   "source": [
    "log_dir = \"logs/fit/\" + datetime.datetime.now().strftime(\"%Y%m%d-%H%M%S\")\n",
    "tensorboard_callback = TensorBoard(log_dir=log_dir, histogram_freq=1)"
   ]
  },
  {
   "cell_type": "code",
   "execution_count": 26,
   "metadata": {},
   "outputs": [
    {
     "name": "stdout",
     "output_type": "stream",
     "text": [
      "Epoch 1/100\n",
      "141/141 [==============================] - 10s 37ms/step - loss: 2.1430 - accuracy: 0.1630 - val_loss: 2.0845 - val_accuracy: 0.1623\n",
      "Epoch 2/100\n",
      "141/141 [==============================] - 4s 27ms/step - loss: 2.0795 - accuracy: 0.1689 - val_loss: 2.0817 - val_accuracy: 0.1693\n",
      "Epoch 3/100\n",
      "141/141 [==============================] - 4s 27ms/step - loss: 2.0569 - accuracy: 0.1764 - val_loss: 2.0099 - val_accuracy: 0.2240\n",
      "Epoch 4/100\n",
      "141/141 [==============================] - 4s 29ms/step - loss: 1.9008 - accuracy: 0.2505 - val_loss: 1.8565 - val_accuracy: 0.2717\n",
      "Epoch 5/100\n",
      "141/141 [==============================] - 4s 29ms/step - loss: 1.8208 - accuracy: 0.2835 - val_loss: 1.7953 - val_accuracy: 0.2850\n",
      "Epoch 6/100\n",
      "141/141 [==============================] - 4s 29ms/step - loss: 1.7874 - accuracy: 0.2965 - val_loss: 1.7577 - val_accuracy: 0.3140\n",
      "Epoch 7/100\n",
      "141/141 [==============================] - 4s 29ms/step - loss: 1.7354 - accuracy: 0.3199 - val_loss: 1.7138 - val_accuracy: 0.3343\n",
      "Epoch 8/100\n",
      "141/141 [==============================] - 4s 28ms/step - loss: 1.6885 - accuracy: 0.3449 - val_loss: 1.6574 - val_accuracy: 0.3527\n",
      "Epoch 9/100\n",
      "141/141 [==============================] - 4s 27ms/step - loss: 1.6363 - accuracy: 0.3733 - val_loss: 1.6147 - val_accuracy: 0.3857\n",
      "Epoch 10/100\n",
      "141/141 [==============================] - 4s 28ms/step - loss: 1.5839 - accuracy: 0.3955 - val_loss: 1.5500 - val_accuracy: 0.4213\n",
      "Epoch 11/100\n",
      "141/141 [==============================] - 4s 29ms/step - loss: 1.5015 - accuracy: 0.4313 - val_loss: 1.4437 - val_accuracy: 0.4537\n",
      "Epoch 12/100\n",
      "141/141 [==============================] - 4s 27ms/step - loss: 1.4231 - accuracy: 0.4596 - val_loss: 1.3840 - val_accuracy: 0.4690\n",
      "Epoch 13/100\n",
      "141/141 [==============================] - 4s 28ms/step - loss: 1.3575 - accuracy: 0.4781 - val_loss: 1.3391 - val_accuracy: 0.4843\n",
      "Epoch 14/100\n",
      "141/141 [==============================] - 3s 19ms/step - loss: 1.3094 - accuracy: 0.5044 - val_loss: 1.3765 - val_accuracy: 0.4433\n",
      "Epoch 15/100\n",
      "141/141 [==============================] - 4s 28ms/step - loss: 1.2756 - accuracy: 0.5164 - val_loss: 1.2790 - val_accuracy: 0.5037\n",
      "Epoch 16/100\n",
      "141/141 [==============================] - 4s 29ms/step - loss: 1.2448 - accuracy: 0.5300 - val_loss: 1.2242 - val_accuracy: 0.5443\n",
      "Epoch 17/100\n",
      "141/141 [==============================] - 4s 30ms/step - loss: 1.2225 - accuracy: 0.5383 - val_loss: 1.2247 - val_accuracy: 0.5247\n",
      "Epoch 18/100\n",
      "141/141 [==============================] - 4s 30ms/step - loss: 1.1933 - accuracy: 0.5531 - val_loss: 1.2118 - val_accuracy: 0.5253\n",
      "Epoch 19/100\n",
      "141/141 [==============================] - 4s 30ms/step - loss: 1.1943 - accuracy: 0.5452 - val_loss: 1.1532 - val_accuracy: 0.5760\n",
      "Epoch 20/100\n",
      "141/141 [==============================] - 4s 29ms/step - loss: 1.1632 - accuracy: 0.5616 - val_loss: 1.3258 - val_accuracy: 0.4600\n",
      "Epoch 21/100\n",
      "141/141 [==============================] - 4s 30ms/step - loss: 1.1677 - accuracy: 0.5509 - val_loss: 1.1619 - val_accuracy: 0.5627\n",
      "Epoch 22/100\n",
      "141/141 [==============================] - 4s 27ms/step - loss: 1.1353 - accuracy: 0.5719 - val_loss: 1.1831 - val_accuracy: 0.5223\n",
      "Epoch 23/100\n",
      "141/141 [==============================] - 4s 29ms/step - loss: 1.1386 - accuracy: 0.5617 - val_loss: 1.1120 - val_accuracy: 0.5917\n",
      "Epoch 24/100\n",
      "141/141 [==============================] - 4s 29ms/step - loss: 1.1092 - accuracy: 0.5826 - val_loss: 1.1158 - val_accuracy: 0.5810\n",
      "Epoch 25/100\n",
      "141/141 [==============================] - 4s 29ms/step - loss: 1.1139 - accuracy: 0.5727 - val_loss: 1.1412 - val_accuracy: 0.5550\n",
      "Epoch 26/100\n",
      "141/141 [==============================] - 4s 30ms/step - loss: 1.0845 - accuracy: 0.5899 - val_loss: 1.1270 - val_accuracy: 0.5520\n",
      "Epoch 27/100\n",
      "141/141 [==============================] - 4s 28ms/step - loss: 1.0867 - accuracy: 0.5848 - val_loss: 1.1605 - val_accuracy: 0.5413\n",
      "Epoch 28/100\n",
      "141/141 [==============================] - 4s 28ms/step - loss: 1.0926 - accuracy: 0.5760 - val_loss: 1.0755 - val_accuracy: 0.5947\n",
      "Epoch 29/100\n",
      "141/141 [==============================] - 4s 29ms/step - loss: 1.0560 - accuracy: 0.6005 - val_loss: 1.0721 - val_accuracy: 0.5900\n",
      "Epoch 30/100\n",
      "141/141 [==============================] - 4s 28ms/step - loss: 1.0570 - accuracy: 0.5972 - val_loss: 1.0602 - val_accuracy: 0.6003\n",
      "Epoch 31/100\n",
      "141/141 [==============================] - 4s 29ms/step - loss: 1.0345 - accuracy: 0.6134 - val_loss: 1.1954 - val_accuracy: 0.5153\n",
      "Epoch 32/100\n",
      "141/141 [==============================] - 4s 26ms/step - loss: 1.0636 - accuracy: 0.5885 - val_loss: 1.0590 - val_accuracy: 0.5903\n",
      "Epoch 33/100\n",
      "141/141 [==============================] - 4s 26ms/step - loss: 1.0434 - accuracy: 0.5997 - val_loss: 1.0513 - val_accuracy: 0.6020\n",
      "Epoch 34/100\n",
      "141/141 [==============================] - 4s 30ms/step - loss: 1.0470 - accuracy: 0.5989 - val_loss: 1.0673 - val_accuracy: 0.5870\n",
      "Epoch 35/100\n",
      "141/141 [==============================] - 4s 28ms/step - loss: 1.0134 - accuracy: 0.6209 - val_loss: 1.0773 - val_accuracy: 0.5770\n",
      "Epoch 36/100\n",
      "141/141 [==============================] - 4s 27ms/step - loss: 1.0334 - accuracy: 0.6039 - val_loss: 1.0161 - val_accuracy: 0.6173\n",
      "Epoch 37/100\n",
      "141/141 [==============================] - 4s 28ms/step - loss: 1.0154 - accuracy: 0.6128 - val_loss: 1.0348 - val_accuracy: 0.6067\n",
      "Epoch 38/100\n",
      "141/141 [==============================] - 4s 29ms/step - loss: 1.0240 - accuracy: 0.6054 - val_loss: 1.0537 - val_accuracy: 0.5940\n",
      "Epoch 39/100\n",
      "141/141 [==============================] - 5s 35ms/step - loss: 1.0219 - accuracy: 0.6090 - val_loss: 1.0607 - val_accuracy: 0.5807\n",
      "Epoch 40/100\n",
      "141/141 [==============================] - 4s 27ms/step - loss: 1.0156 - accuracy: 0.6117 - val_loss: 1.0034 - val_accuracy: 0.6213\n",
      "Epoch 41/100\n",
      "141/141 [==============================] - 4s 27ms/step - loss: 0.9975 - accuracy: 0.6214 - val_loss: 1.0032 - val_accuracy: 0.6180\n",
      "Epoch 42/100\n",
      "141/141 [==============================] - 4s 28ms/step - loss: 0.9899 - accuracy: 0.6255 - val_loss: 1.0237 - val_accuracy: 0.6067\n",
      "Epoch 43/100\n",
      "141/141 [==============================] - 4s 28ms/step - loss: 0.9807 - accuracy: 0.6289 - val_loss: 1.0135 - val_accuracy: 0.6137\n",
      "Epoch 44/100\n",
      "141/141 [==============================] - 4s 28ms/step - loss: 0.9826 - accuracy: 0.6257 - val_loss: 1.0070 - val_accuracy: 0.6120\n",
      "Epoch 45/100\n",
      "141/141 [==============================] - 4s 26ms/step - loss: 0.9951 - accuracy: 0.6162 - val_loss: 1.0532 - val_accuracy: 0.5860\n",
      "Epoch 46/100\n",
      "141/141 [==============================] - 4s 30ms/step - loss: 0.9761 - accuracy: 0.6275 - val_loss: 1.0205 - val_accuracy: 0.5997\n",
      "Epoch 47/100\n",
      "141/141 [==============================] - 4s 31ms/step - loss: 0.9852 - accuracy: 0.6207 - val_loss: 1.0064 - val_accuracy: 0.6083\n",
      "Epoch 48/100\n",
      "141/141 [==============================] - 4s 26ms/step - loss: 0.9658 - accuracy: 0.6345 - val_loss: 0.9836 - val_accuracy: 0.6320\n",
      "Epoch 49/100\n",
      "141/141 [==============================] - 4s 28ms/step - loss: 0.9855 - accuracy: 0.6211 - val_loss: 1.0719 - val_accuracy: 0.5783\n",
      "Epoch 50/100\n",
      "141/141 [==============================] - 4s 27ms/step - loss: 0.9957 - accuracy: 0.6158 - val_loss: 1.0438 - val_accuracy: 0.5923\n",
      "Epoch 51/100\n",
      "141/141 [==============================] - 4s 26ms/step - loss: 0.9627 - accuracy: 0.6337 - val_loss: 0.9706 - val_accuracy: 0.6403\n",
      "Epoch 52/100\n",
      "141/141 [==============================] - 4s 27ms/step - loss: 0.9511 - accuracy: 0.6401 - val_loss: 1.0371 - val_accuracy: 0.5797\n",
      "Epoch 53/100\n",
      "141/141 [==============================] - 4s 25ms/step - loss: 1.0015 - accuracy: 0.6102 - val_loss: 1.0396 - val_accuracy: 0.5887\n",
      "Epoch 54/100\n",
      "141/141 [==============================] - 4s 28ms/step - loss: 0.9509 - accuracy: 0.6412 - val_loss: 1.0332 - val_accuracy: 0.5967\n",
      "Epoch 55/100\n",
      "141/141 [==============================] - 4s 30ms/step - loss: 0.9644 - accuracy: 0.6290 - val_loss: 1.0964 - val_accuracy: 0.5630\n",
      "Epoch 56/100\n",
      "141/141 [==============================] - 4s 27ms/step - loss: 0.9663 - accuracy: 0.6326 - val_loss: 1.0028 - val_accuracy: 0.6087\n",
      "Epoch 57/100\n",
      "141/141 [==============================] - 4s 28ms/step - loss: 0.9409 - accuracy: 0.6446 - val_loss: 1.0150 - val_accuracy: 0.5933\n",
      "Epoch 58/100\n",
      "141/141 [==============================] - 4s 28ms/step - loss: 0.9436 - accuracy: 0.6404 - val_loss: 1.0141 - val_accuracy: 0.6137\n",
      "Epoch 59/100\n",
      "141/141 [==============================] - 4s 28ms/step - loss: 0.9450 - accuracy: 0.6401 - val_loss: 1.0129 - val_accuracy: 0.6097\n",
      "Epoch 60/100\n",
      "141/141 [==============================] - 4s 30ms/step - loss: 0.9495 - accuracy: 0.6377 - val_loss: 1.0476 - val_accuracy: 0.5850\n",
      "Epoch 61/100\n",
      "141/141 [==============================] - 5s 35ms/step - loss: 0.9540 - accuracy: 0.6342 - val_loss: 0.9686 - val_accuracy: 0.6330\n",
      "Epoch 62/100\n",
      "141/141 [==============================] - 7s 47ms/step - loss: 0.9596 - accuracy: 0.6310 - val_loss: 1.0173 - val_accuracy: 0.6037\n",
      "Epoch 63/100\n",
      "141/141 [==============================] - 7s 47ms/step - loss: 0.9373 - accuracy: 0.6406 - val_loss: 0.9898 - val_accuracy: 0.6180\n",
      "Epoch 64/100\n",
      "141/141 [==============================] - 7s 48ms/step - loss: 0.9243 - accuracy: 0.6520 - val_loss: 1.2244 - val_accuracy: 0.5283\n",
      "Epoch 65/100\n",
      "141/141 [==============================] - 7s 47ms/step - loss: 0.9632 - accuracy: 0.6292 - val_loss: 1.0018 - val_accuracy: 0.6173\n",
      "Epoch 66/100\n",
      "141/141 [==============================] - 7s 48ms/step - loss: 0.9226 - accuracy: 0.6517 - val_loss: 1.0680 - val_accuracy: 0.5870\n",
      "Epoch 67/100\n",
      "141/141 [==============================] - 7s 49ms/step - loss: 0.9497 - accuracy: 0.6348 - val_loss: 0.9939 - val_accuracy: 0.6157\n",
      "Epoch 68/100\n",
      "141/141 [==============================] - 7s 47ms/step - loss: 0.9189 - accuracy: 0.6489 - val_loss: 1.0752 - val_accuracy: 0.5863\n",
      "Epoch 83/100\n",
      "141/141 [==============================] - 6s 44ms/step - loss: 0.9020 - accuracy: 0.6599 - val_loss: 1.0606 - val_accuracy: 0.5780\n",
      "Epoch 84/100\n",
      "141/141 [==============================] - 7s 50ms/step - loss: 0.8858 - accuracy: 0.6688 - val_loss: 1.0040 - val_accuracy: 0.6113\n",
      "Epoch 85/100\n",
      "141/141 [==============================] - 8s 60ms/step - loss: 0.9156 - accuracy: 0.6521 - val_loss: 1.0216 - val_accuracy: 0.5973\n",
      "Epoch 86/100\n",
      "141/141 [==============================] - 7s 48ms/step - loss: 0.8902 - accuracy: 0.6642 - val_loss: 0.9547 - val_accuracy: 0.6323\n",
      "Epoch 87/100\n",
      "141/141 [==============================] - 7s 49ms/step - loss: 0.8987 - accuracy: 0.6610 - val_loss: 0.9619 - val_accuracy: 0.6363\n",
      "Epoch 88/100\n",
      "141/141 [==============================] - 7s 50ms/step - loss: 0.8916 - accuracy: 0.6624 - val_loss: 1.0747 - val_accuracy: 0.5777\n",
      "Epoch 89/100\n",
      "141/141 [==============================] - 7s 49ms/step - loss: 0.9178 - accuracy: 0.6512 - val_loss: 1.0345 - val_accuracy: 0.5987\n",
      "Epoch 99/100\n",
      "141/141 [==============================] - 7s 46ms/step - loss: 0.9058 - accuracy: 0.6558 - val_loss: 0.9696 - val_accuracy: 0.6247\n",
      "Epoch 100/100\n",
      "141/141 [==============================] - 7s 48ms/step - loss: 0.8827 - accuracy: 0.6701 - val_loss: 0.9791 - val_accuracy: 0.6213\n"
     ]
    }
   ],
   "source": [
    "history = model.fit(\n",
    "    x=x,\n",
    "    y=y,\n",
    "    epochs=epochs_num,\n",
    "    batch_size=batch_size,\n",
    "    validation_split=0.1,\n",
    "    callbacks=[tensorboard_callback]\n",
    ")"
   ]
  },
  {
   "cell_type": "code",
   "execution_count": 27,
   "metadata": {},
   "outputs": [],
   "source": [
    "def render_training_history(training_history):\n",
    "    loss = training_history.history.get('loss', [])\n",
    "    val_loss = training_history.history.get('val_loss', [])\n",
    "\n",
    "    accuracy = training_history.history.get('accuracy', [])\n",
    "    val_accuracy = training_history.history.get('val_accuracy', [])\n",
    "\n",
    "    plt.figure(figsize=(16, 5))\n",
    "\n",
    "    plt.subplot(1, 2, 1)\n",
    "    plt.title('Training vs Validation Loss')\n",
    "    plt.xlabel('Epoch')\n",
    "    plt.ylabel('Loss')\n",
    "    plt.plot(loss, label='Training Loss', color='blue', marker='o')\n",
    "    if val_loss:\n",
    "        plt.plot(val_loss, label='Validation Loss', color='red', linestyle='--', marker='s')\n",
    "    plt.legend()\n",
    "    plt.grid(linestyle='--', linewidth=0.7, alpha=0.7)\n",
    "\n",
    "    plt.subplot(1, 2, 2)\n",
    "    plt.title('Training vs Validation Accuracy')\n",
    "    plt.xlabel('Epoch')\n",
    "    plt.ylabel('Accuracy')\n",
    "    plt.plot(accuracy, label='Training Accuracy', color='green', marker='o')\n",
    "    if val_accuracy:\n",
    "        plt.plot(val_accuracy, label='Validation Accuracy', color='orange', linestyle='--', marker='s')\n",
    "    plt.legend()\n",
    "    plt.grid(linestyle='--', linewidth=0.7, alpha=0.7)\n",
    "\n",
    "    plt.show()\n"
   ]
  },
  {
   "cell_type": "code",
   "execution_count": 28,
   "metadata": {},
   "outputs": [
    {
     "data": {
      "image/png": "[encoded data removed]",
      "text/plain": [
       "<Figure size 1600x500 with 2 Axes>"
      ]
     },
     "metadata": {},
     "output_type": "display_data"
    }
   ],
   "source": [
    "render_training_history(history)"
   ]
  },
  {
   "cell_type": "markdown",
   "metadata": {},
   "source": [
    "## Test a dataset"
   ]
  },
  {
   "cell_type": "code",
   "execution_count": 29,
   "metadata": {},
   "outputs": [
    {
     "name": "stdout",
     "output_type": "stream",
     "text": [
      "x_test:\n",
      " [[[0 1 0 0 0 0 0 0 0 0 0 0]\n",
      "  [0 0 0 0 0 0 0 0 0 1 0 0]\n",
      "  [0 0 0 1 0 0 0 0 0 0 0 0]\n",
      "  [0 0 0 0 0 0 0 0 0 0 1 0]\n",
      "  [0 0 0 0 0 0 0 0 0 0 1 0]\n",
      "  [0 0 1 0 0 0 0 0 0 0 0 0]\n",
      "  [0 0 0 1 0 0 0 0 0 0 0 0]\n",
      "  [0 0 0 0 0 0 0 0 0 0 1 0]\n",
      "  [0 0 0 0 0 0 0 0 0 0 1 0]\n",
      "  [0 0 1 0 0 0 0 0 0 0 0 0]\n",
      "  [0 0 0 0 1 0 0 0 0 0 0 0]\n",
      "  [0 0 0 0 0 0 0 0 0 0 1 0]\n",
      "  [0 0 0 0 0 0 0 0 0 0 1 0]\n",
      "  [0 0 0 0 0 0 1 0 0 0 0 0]\n",
      "  [0 0 0 0 0 0 0 1 0 0 0 0]]]\n",
      "\n",
      "y_test:\n",
      " [[[0 0 0 1 0 0 0 0 0 0 0 0]\n",
      "  [1 0 0 0 0 0 0 0 0 0 0 0]\n",
      "  [0 0 0 0 0 0 0 1 0 0 0 0]]]\n"
     ]
    }
   ],
   "source": [
    "x_test, y_test = generate_dataset(dataset_size, sequence_length, max_num, vocabulary)\n",
    "\n",
    "print('x_test:\\n', x_test[:1])\n",
    "print()\n",
    "print('y_test:\\n', y_test[:1])"
   ]
  },
  {
   "cell_type": "code",
   "execution_count": 30,
   "metadata": {},
   "outputs": [
    {
     "name": "stdout",
     "output_type": "stream",
     "text": [
      "313/313 [==============================] - 8s 15ms/step\n",
      "predictions.shape:  (10000, 3, 12)\n",
      "\n",
      "predictions[0]:\n",
      " [[1.32786143e-12 6.80711376e-10 1.42108295e-02 9.84326303e-01\n",
      "  1.46275235e-03 1.27262098e-07 5.18469165e-12 2.14348159e-14\n",
      "  5.25137994e-17 8.34030409e-16 1.45195418e-11 1.78698189e-13]\n",
      " [9.48410690e-01 4.01597060e-02 1.06576852e-04 9.56139843e-07\n",
      "  6.29729087e-08 4.45923254e-09 1.71485770e-09 7.04363785e-08\n",
      "  2.81244320e-05 1.12937391e-02 9.09924371e-13 2.44532467e-11]\n",
      " [1.27058327e-01 1.19746722e-01 3.91479731e-02 8.54896456e-02\n",
      "  1.38178721e-01 1.79917231e-01 1.44319713e-01 6.84800297e-02\n",
      "  5.32791913e-02 4.43824008e-02 1.06229574e-10 3.10008108e-09]]\n",
      "\n",
      "predictions[1]:\n",
      " [[1.97036079e-05 5.11834361e-02 9.47843671e-01 9.27225046e-04\n",
      "  2.53341677e-05 2.62329308e-07 5.20087333e-08 5.66889931e-08\n",
      "  9.18482073e-08 2.61892609e-07 5.89771898e-10 5.18681868e-11]\n",
      " [8.37724924e-01 1.25900269e-01 2.14558933e-03 1.66114114e-04\n",
      "  1.41141909e-05 5.35598588e-07 7.50184995e-07 1.96419023e-05\n",
      "  2.40418696e-04 3.37877572e-02 4.08171023e-12 3.31214882e-11]\n",
      " [9.03348625e-02 1.03352912e-01 4.78627905e-02 1.02745675e-01\n",
      "  7.36259595e-02 6.63333163e-02 9.85975489e-02 1.39413387e-01\n",
      "  1.26414239e-01 1.51319265e-01 2.53331189e-10 2.83964887e-08]]\n"
     ]
    }
   ],
   "source": [
    "predictions = model.predict(x_test)\n",
    "\n",
    "print('predictions.shape: ', predictions.shape)\n",
    "print()\n",
    "print('predictions[0]:\\n', predictions[0])\n",
    "print()\n",
    "print('predictions[1]:\\n', predictions[1])"
   ]
  },
  {
   "cell_type": "code",
   "execution_count": 31,
   "metadata": {},
   "outputs": [
    {
     "name": "stdout",
     "output_type": "stream",
     "text": [
      "193++23++24++67 = 307 [predict: 305] \n",
      "+48++79++69+++8 = 204 [predict: 209] \n",
      "129+146+108++36 = 419 [predict: 416] \n",
      "110+184+187++59 = 540 [predict: 536] \n",
      "133+113++70++71 = 387 [predict: 384] \n",
      "171+198+146+127 = 642 [predict: 634] \n",
      "+33++25++61++34 = 153 [predict: 155] \n",
      "136+118+154++55 = 463 [predict: 455] \n",
      "+51++73+151+106 = 381 [predict: 386] \n",
      "+98+115+140++96 = 449 [predict: 445] \n",
      "127+138++39++71 = 375 [predict: 374] \n",
      "+99++44+127+125 = 395 [predict: 396] \n",
      "134+125++45++90 = 394 [predict: 395] \n",
      "++7+158+105+193 = 463 [predict: 461] \n",
      "100++48+139+163 = 450 [predict: 445] \n",
      "134+156++19++75 = 384 [predict: 384] ✓\n",
      "108+++5++39+161 = 313 [predict: 311] \n",
      "+50+195++31+192 = 468 [predict: 466] \n",
      "+35+195+133+126 = 489 [predict: 488] \n",
      "149++37+189+196 = 571 [predict: 561] \n",
      "141++13++47+172 = 373 [predict: 365] \n",
      "+28++11+122+157 = 318 [predict: 315] \n",
      "+95+136+154+133 = 518 [predict: 513] \n",
      "+98++64++96+119 = 377 [predict: 376] \n",
      "+21+138+126+108 = 393 [predict: 396] \n",
      "110++83++68+166 = 427 [predict: 429] \n",
      "188++19+136+105 = 448 [predict: 440] \n",
      "+53+121+197+150 = 521 [predict: 523] \n",
      "+94+183+183++80 = 540 [predict: 536] \n",
      "133+149++66+155 = 503 [predict: 500] \n"
     ]
    }
   ],
   "source": [
    "x_encoded = [decode(example, vocabulary) for example in x_test]\n",
    "y_expected = [decode(label, vocabulary) for label in y_test]\n",
    "y_predicted = [decode(prediction, vocabulary) for prediction in predictions]\n",
    "\n",
    "explore_num = 30\n",
    "for example, label, prediction in list(zip(x_encoded, y_expected, y_predicted))[:explore_num]:\n",
    "    checkmark = '✓' if label == prediction else ''\n",
    "    print('{} = {} [predict: {}] {}'.format(example, label, prediction, checkmark))"
   ]
  },
  {
   "cell_type": "markdown",
   "metadata": {},
   "source": [
    "## Save a model"
   ]
  },
  {
   "cell_type": "code",
   "execution_count": 32,
   "metadata": {},
   "outputs": [],
   "source": [
    "model_name = 'numbers_summation_rnn.h5'\n",
    "model.save(model_name, save_format='h5')"
   ]
  },
  {
   "cell_type": "code",
   "execution_count": null,
   "metadata": {},
   "outputs": [],
   "source": []
  }
 ],
 "metadata": {
  "kernelspec": {
   "display_name": "Python 3 (ipykernel)",
   "language": "python",
   "name": "python3"
  },
  "language_info": {
   "codemirror_mode": {
    "name": "ipython",
    "version": 3
   },
   "file_extension": ".py",
   "mimetype": "text/x-python",
   "name": "python",
   "nbconvert_exporter": "python",
   "pygments_lexer": "ipython3",
   "version": "3.10.5"
  }
 },
 "nbformat": 4,
 "nbformat_minor": 2
}
